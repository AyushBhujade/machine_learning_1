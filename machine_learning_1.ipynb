{
 "cells": [
  {
   "cell_type": "markdown",
   "id": "465f0c60-f28e-4acc-a2f1-b650e50db89b",
   "metadata": {},
   "source": [
    "# Quation 1"
   ]
  },
  {
   "cell_type": "markdown",
   "id": "bb6b1071-bda6-4cc7-a4cc-c10647829571",
   "metadata": {},
   "source": [
    "i) Artificial intelligence: refers to the development of computer system that can perform task that typically required\n",
    "   human intelligence.\n",
    "   ex: natural language processing,where AI system like chatbots or virtual assistants analyze and understand human language\n",
    "        to provide relevant responses\n",
    "    \n",
    "ii)Machine Larning: is the field of AI where system learn pattern from data to make predictions or decision without being\n",
    "  explicitly programmed.\n",
    "  ex: spam filter:the system learns from labeled emails(smap or not) to identify pattern and then it can predict whether\n",
    "      a new email is likely to be spam based on those learned patterns\n",
    "      \n",
    "iii)Deep Learning:deep learning is the subset of machine learning that involve neural network with multiple layers(deep\n",
    "                  neural network).these network can automatically learn and represent complex pattern from data.\n",
    "    ex: in image recognition,deep learing model can be trained to recognize cats."
   ]
  },
  {
   "cell_type": "markdown",
   "id": "46ac921d-7a84-4337-9e89-7c539cb70395",
   "metadata": {},
   "source": [
    "# Quation 2"
   ]
  },
  {
   "cell_type": "markdown",
   "id": "01c3d758-c928-4445-908f-0924277bd616",
   "metadata": {},
   "source": [
    "Supervised learning is a type of machine learning where the algoritham is trained on the labeled dataset,meaning that\n",
    "the input data is paired with corresponding output labels.the goal is for the model to learn the mapping between input\n",
    "and output,making prediction or classification when presented with new,unseen data.\n",
    "\n",
    "example:\n",
    "1)Classification: predicting the class or category of an input.for instance,smap email detection,image recognition.\n",
    "\n",
    "2)Regression: Predicting a continous numerical value.ex: predicting house prices based on feature like square footing\n",
    "              and location.\n",
    "\n",
    "3)object detection: identifying and locating object within an image or video.\n",
    "\n",
    "4)Speech Recignition: Converting spoken language into text,where the input is audio data and output is the transcribed text.\n"
   ]
  },
  {
   "cell_type": "markdown",
   "id": "f976b3f3-7efb-40db-9d0a-9e19910bd785",
   "metadata": {},
   "source": [
    "# Quation 3"
   ]
  },
  {
   "cell_type": "markdown",
   "id": "147fcc9c-6619-4352-9ebc-84ec70c34f77",
   "metadata": {},
   "source": [
    "Unsupervised learning is a type of machine learning where the algorithm is given unlabeled data and must find pattern,\n",
    "structure,or relationships wihin the data without explicit guidance.\n",
    "\n",
    "example:\n",
    "1)Clustering: Grouping similar data points together.k-meanse clustering is a common algorithm used for this purpose.\n",
    "\n",
    "2)Dimensionality Reduction: Reduction the number of feature in a dataset while preserving its important information.\n",
    "\n",
    "3)Genrative Model: Creating new data that resembles the training data.Genrative Adversarial Network(GANs)are a popular\n",
    "                    class of model used for generating realistic images\n"
   ]
  },
  {
   "cell_type": "markdown",
   "id": "39b1443a-9db3-4f45-8e5a-aa92633db182",
   "metadata": {},
   "source": [
    "# Quation 4"
   ]
  },
  {
   "cell_type": "markdown",
   "id": "597e735d-3077-4c73-8f59-46c2adbb6699",
   "metadata": {},
   "source": [
    "AI: AI is a broad field of coputer science focused on creating machine capable of intelligent behavior.it encompasses\n",
    "    various techiques,including machine learning and deep learning.to enable machines to perform task that typically\n",
    "    require human intelligence.\n",
    "    \n",
    "ML:ML is a subset of AI that involves the development of algorithms and statistical models that enable computers to perform tasks without explicit programming. It relies on patterns and inference to make predictions or decisions. Examples include linear regression, support vector machines, and decision trees.\n",
    "\n",
    "DL (Deep Learning): DL is a specific subfield of machine learning that involves neural networks with multiple layers (deep neural networks). These deep architectures enable the automatic learning of hierarchical representations of data, making it particularly effective for complex tasks like image and speech recognition.\n",
    "\n",
    "DS (Data Science): Data Science is a multidisciplinary field that uses scientific methods, processes, algorithms, and systems to extract insights and knowledge from structured and unstructured data. It incorporates elements of statistics, machine learning, and domain expertise to analyze and interpret complex data sets. While AI, ML, and DL are more focused on creating intelligent systems, data science is about extracting valuable insights from data."
   ]
  },
  {
   "cell_type": "markdown",
   "id": "e0f3a45f-1221-4395-931d-c9cef4ae7b8a",
   "metadata": {},
   "source": [
    "# Quation 5"
   ]
  },
  {
   "cell_type": "markdown",
   "id": "86b30561-8cac-4e92-a937-356481e8fcd5",
   "metadata": {},
   "source": [
    "Supervised Learning:\n",
    "Data Type: Requires labeled training data, where each input is paired with the corresponding output or target.\n",
    "Learning Process: The algorithm learns to map input data to predefined output labels. It aims to minimize the difference between predicted and actual outputs.\n",
    "\n",
    "Unsupervised Learning:\n",
    "Data Type: Involves unlabeled data, with no explicit output information provided.\n",
    "Learning Process: The algorithm explores the inherent structure or patterns within the data, typically clustering similar instances or reducing the dimensionality of the data without predefined categories.\n",
    "\n",
    "Semi-Supervised Learning:\n",
    "Data Type: Utilizes a combination of labeled and unlabeled data.\n",
    "Learning Process: The algorithm learns from the labeled data as in supervised learning, while also leveraging the unlabeled data to enhance its understanding of the underlying patterns or relationships."
   ]
  },
  {
   "cell_type": "markdown",
   "id": "037f6937-db28-4104-9865-c52b791a08d7",
   "metadata": {},
   "source": [
    "# Quation 6"
   ]
  },
  {
   "cell_type": "markdown",
   "id": "0a3671dc-f115-4d2e-84cd-2ce2f825eabe",
   "metadata": {},
   "source": [
    "Training Set:\n",
    "Purpose: The training set is used to train the machine learning model. It consists of a subset of the dataset containing examples with both input features and corresponding output labels.\n",
    "\n",
    "Importance: The model learns patterns and relationships within the training data, adjusting its parameters to make accurate predictions on this specific set.\n",
    "\n",
    "Test Set:\n",
    "Purpose: The test set is a separate subset of the dataset that the model has not seen during training. It is used to evaluate the model's performance and assess how well it generalizes to new, unseen data.\n",
    "\n",
    "Importance: By evaluating the model on a test set, one can estimate its performance on new, real-world data. This helps ensure that the model is not just memorizing the training data but can make accurate predictions on novel inputs.\n",
    "\n",
    "Validation Set:\n",
    "Purpose: The validation set is used during the training phase to fine-tune the model's hyperparameters and prevent overfitting. It is a separate subset from training set\n",
    "\n",
    "Importance: as the model learn from the training set,the validation set helps in assessing its performance on data it has not seen before.adjusting can be made based on this performance to improve the model generalization."
   ]
  },
  {
   "cell_type": "markdown",
   "id": "bb7a082c-7c62-45bb-a904-af2f86e41f61",
   "metadata": {},
   "source": [
    "# Quation 7"
   ]
  },
  {
   "cell_type": "markdown",
   "id": "21ea1507-47c1-4432-80d6-e54900725b9f",
   "metadata": {},
   "source": [
    "Clustering:\n",
    "Method: Use clustering algorithms like K-means or DBSCAN to group similar instances together.\n",
    "\n",
    "Application: Anomalies may belong to clusters with fewer data points, or they might be distant outliers.\n",
    "\n",
    "Density Estimation:\n",
    "Method: Estimate the probability density function of the data, and points with low probability are considered anomalies.\n",
    "\n",
    "Application: Algorithms like Gaussian Mixture Models (GMM) or kernel density estimation can be used for this purpose.\n",
    "\n",
    "Autoencoders:\n",
    "Method: Train neural networks to reconstruct input data and identify instances that deviate significantly from the reconstructed data.\n",
    "\n",
    "Application: Unusual patterns in the data result in poor reconstruction, indicating potential anomalies."
   ]
  },
  {
   "cell_type": "markdown",
   "id": "39ada0a2-efc1-47a0-b182-2eac077e67c9",
   "metadata": {},
   "source": [
    "# Quation 8"
   ]
  },
  {
   "cell_type": "markdown",
   "id": "6cbce31e-e8af-4950-87f5-2760bdb4ec5b",
   "metadata": {},
   "source": [
    "Supervised learning algorithm:\n",
    "1)linear regression\n",
    "2)logistic regression\n",
    "3)Decision tree\n",
    "4)Random Forest\n",
    "5)support vector machine\n",
    "\n",
    "Unsupervised learning algorithm:\n",
    "1)k-means Clustering\n",
    "2)Hirachical clustering\n",
    "3)DBSCAN \n",
    "4)principle component analysis"
   ]
  }
 ],
 "metadata": {
  "kernelspec": {
   "display_name": "Python 3 (ipykernel)",
   "language": "python",
   "name": "python3"
  },
  "language_info": {
   "codemirror_mode": {
    "name": "ipython",
    "version": 3
   },
   "file_extension": ".py",
   "mimetype": "text/x-python",
   "name": "python",
   "nbconvert_exporter": "python",
   "pygments_lexer": "ipython3",
   "version": "3.10.8"
  }
 },
 "nbformat": 4,
 "nbformat_minor": 5
}
